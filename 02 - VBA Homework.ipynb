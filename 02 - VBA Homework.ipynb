{
 "cells": [
  {
   "cell_type": "code",
   "execution_count": 39,
   "metadata": {
    "collapsed": true
   },
   "outputs": [],
   "source": [
    "import numpy as np\n",
    "import pandas as pd\n",
    "import matplotlib.pyplot as plt\n",
    "import requests\n",
    "import time\n",
    "import json\n",
    "import seaborn\n",
    "from scipy.stats import ttest_ind"
   ]
  },
  {
   "cell_type": "code",
   "execution_count": 40,
   "metadata": {
    "collapsed": true
   },
   "outputs": [],
   "source": [
    "alpha_test = pd.read_excel(\"alphabtical_testing.xlsx\")"
   ]
  },
  {
   "cell_type": "code",
   "execution_count": 41,
   "metadata": {},
   "outputs": [
    {
     "data": {
      "text/html": [
       "<div>\n",
       "<style>\n",
       "    .dataframe thead tr:only-child th {\n",
       "        text-align: right;\n",
       "    }\n",
       "\n",
       "    .dataframe thead th {\n",
       "        text-align: left;\n",
       "    }\n",
       "\n",
       "    .dataframe tbody tr th {\n",
       "        vertical-align: top;\n",
       "    }\n",
       "</style>\n",
       "<table border=\"1\" class=\"dataframe\">\n",
       "  <thead>\n",
       "    <tr style=\"text-align: right;\">\n",
       "      <th></th>\n",
       "      <th>&lt;ticker&gt;</th>\n",
       "      <th>&lt;date&gt;</th>\n",
       "      <th>&lt;open&gt;</th>\n",
       "      <th>&lt;high&gt;</th>\n",
       "      <th>&lt;low&gt;</th>\n",
       "      <th>&lt;close&gt;</th>\n",
       "      <th>&lt;vol&gt;</th>\n",
       "    </tr>\n",
       "  </thead>\n",
       "  <tbody>\n",
       "    <tr>\n",
       "      <th>0</th>\n",
       "      <td>A</td>\n",
       "      <td>20160101</td>\n",
       "      <td>41.81</td>\n",
       "      <td>-42.363655</td>\n",
       "      <td>41.81</td>\n",
       "      <td>41.81</td>\n",
       "      <td>0</td>\n",
       "    </tr>\n",
       "    <tr>\n",
       "      <th>1</th>\n",
       "      <td>A</td>\n",
       "      <td>20160104</td>\n",
       "      <td>41.06</td>\n",
       "      <td>-1.305047</td>\n",
       "      <td>40.34</td>\n",
       "      <td>40.69</td>\n",
       "      <td>3287300</td>\n",
       "    </tr>\n",
       "    <tr>\n",
       "      <th>2</th>\n",
       "      <td>A</td>\n",
       "      <td>20160105</td>\n",
       "      <td>40.73</td>\n",
       "      <td>0.902214</td>\n",
       "      <td>40.34</td>\n",
       "      <td>40.55</td>\n",
       "      <td>2587200</td>\n",
       "    </tr>\n",
       "    <tr>\n",
       "      <th>3</th>\n",
       "      <td>A</td>\n",
       "      <td>20160106</td>\n",
       "      <td>40.24</td>\n",
       "      <td>0.718016</td>\n",
       "      <td>40.05</td>\n",
       "      <td>40.73</td>\n",
       "      <td>2103600</td>\n",
       "    </tr>\n",
       "    <tr>\n",
       "      <th>4</th>\n",
       "      <td>A</td>\n",
       "      <td>20160107</td>\n",
       "      <td>40.14</td>\n",
       "      <td>3.227403</td>\n",
       "      <td>38.81</td>\n",
       "      <td>39.00</td>\n",
       "      <td>3504300</td>\n",
       "    </tr>\n",
       "    <tr>\n",
       "      <th>5</th>\n",
       "      <td>A</td>\n",
       "      <td>20160108</td>\n",
       "      <td>39.22</td>\n",
       "      <td>0.716412</td>\n",
       "      <td>38.47</td>\n",
       "      <td>38.59</td>\n",
       "      <td>3736700</td>\n",
       "    </tr>\n",
       "    <tr>\n",
       "      <th>6</th>\n",
       "      <td>A</td>\n",
       "      <td>20160111</td>\n",
       "      <td>38.71</td>\n",
       "      <td>0.206870</td>\n",
       "      <td>37.41</td>\n",
       "      <td>37.94</td>\n",
       "      <td>2818600</td>\n",
       "    </tr>\n",
       "    <tr>\n",
       "      <th>7</th>\n",
       "      <td>A</td>\n",
       "      <td>20160112</td>\n",
       "      <td>38.43</td>\n",
       "      <td>0.581145</td>\n",
       "      <td>37.65</td>\n",
       "      <td>38.19</td>\n",
       "      <td>1989300</td>\n",
       "    </tr>\n",
       "    <tr>\n",
       "      <th>8</th>\n",
       "      <td>A</td>\n",
       "      <td>20160113</td>\n",
       "      <td>38.35</td>\n",
       "      <td>0.212443</td>\n",
       "      <td>36.72</td>\n",
       "      <td>36.86</td>\n",
       "      <td>4206600</td>\n",
       "    </tr>\n",
       "    <tr>\n",
       "      <th>9</th>\n",
       "      <td>A</td>\n",
       "      <td>20160114</td>\n",
       "      <td>36.94</td>\n",
       "      <td>1.284885</td>\n",
       "      <td>36.55</td>\n",
       "      <td>37.61</td>\n",
       "      <td>2893300</td>\n",
       "    </tr>\n",
       "  </tbody>\n",
       "</table>\n",
       "</div>"
      ],
      "text/plain": [
       "  <ticker>    <date>  <open>     <high>  <low>  <close>    <vol>\n",
       "0        A  20160101   41.81 -42.363655  41.81    41.81        0\n",
       "1        A  20160104   41.06  -1.305047  40.34    40.69  3287300\n",
       "2        A  20160105   40.73   0.902214  40.34    40.55  2587200\n",
       "3        A  20160106   40.24   0.718016  40.05    40.73  2103600\n",
       "4        A  20160107   40.14   3.227403  38.81    39.00  3504300\n",
       "5        A  20160108   39.22   0.716412  38.47    38.59  3736700\n",
       "6        A  20160111   38.71   0.206870  37.41    37.94  2818600\n",
       "7        A  20160112   38.43   0.581145  37.65    38.19  1989300\n",
       "8        A  20160113   38.35   0.212443  36.72    36.86  4206600\n",
       "9        A  20160114   36.94   1.284885  36.55    37.61  2893300"
      ]
     },
     "execution_count": 41,
     "metadata": {},
     "output_type": "execute_result"
    }
   ],
   "source": [
    "alpha_test.head(10)"
   ]
  },
  {
   "cell_type": "code",
   "execution_count": 46,
   "metadata": {},
   "outputs": [
    {
     "data": {
      "text/plain": [
       "<ticker>    70925\n",
       "<date>      70925\n",
       "<open>      70925\n",
       "<high>      70925\n",
       "<low>       70925\n",
       "<close>     70925\n",
       "<vol>       70925\n",
       "dtype: int64"
      ]
     },
     "execution_count": 46,
     "metadata": {},
     "output_type": "execute_result"
    }
   ],
   "source": [
    "alpha_test.count()"
   ]
  }
 ],
 "metadata": {
  "kernelspec": {
   "display_name": "Python [conda env:PythonData]",
   "language": "python",
   "name": "conda-env-PythonData-py"
  },
  "language_info": {
   "codemirror_mode": {
    "name": "ipython",
    "version": 3
   },
   "file_extension": ".py",
   "mimetype": "text/x-python",
   "name": "python",
   "nbconvert_exporter": "python",
   "pygments_lexer": "ipython3",
   "version": "3.6.3"
  }
 },
 "nbformat": 4,
 "nbformat_minor": 2
}
