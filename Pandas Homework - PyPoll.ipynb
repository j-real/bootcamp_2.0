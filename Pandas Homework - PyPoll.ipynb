{
 "cells": [
  {
   "cell_type": "code",
   "execution_count": 63,
   "metadata": {
    "collapsed": true
   },
   "outputs": [],
   "source": [
    "import numpy as np\n",
    "import pandas as pd\n",
    "import matplotlib.pyplot as plt\n",
    "import requests\n",
    "import time\n",
    "import json\n",
    "import seaborn\n",
    "from scipy.stats import ttest_ind"
   ]
  },
  {
   "cell_type": "code",
   "execution_count": 64,
   "metadata": {},
   "outputs": [
    {
     "data": {
      "text/html": [
       "<div>\n",
       "<style>\n",
       "    .dataframe thead tr:only-child th {\n",
       "        text-align: right;\n",
       "    }\n",
       "\n",
       "    .dataframe thead th {\n",
       "        text-align: left;\n",
       "    }\n",
       "\n",
       "    .dataframe tbody tr th {\n",
       "        vertical-align: top;\n",
       "    }\n",
       "</style>\n",
       "<table border=\"1\" class=\"dataframe\">\n",
       "  <thead>\n",
       "    <tr style=\"text-align: right;\">\n",
       "      <th></th>\n",
       "      <th>Voter ID</th>\n",
       "      <th>County</th>\n",
       "      <th>Candidate</th>\n",
       "    </tr>\n",
       "  </thead>\n",
       "  <tbody>\n",
       "    <tr>\n",
       "      <th>0</th>\n",
       "      <td>1405627</td>\n",
       "      <td>Harsaw</td>\n",
       "      <td>Vestal</td>\n",
       "    </tr>\n",
       "    <tr>\n",
       "      <th>1</th>\n",
       "      <td>1711723</td>\n",
       "      <td>Mershville</td>\n",
       "      <td>Vestal</td>\n",
       "    </tr>\n",
       "    <tr>\n",
       "      <th>2</th>\n",
       "      <td>1550639</td>\n",
       "      <td>Matterdawn</td>\n",
       "      <td>Vestal</td>\n",
       "    </tr>\n",
       "    <tr>\n",
       "      <th>3</th>\n",
       "      <td>1042621</td>\n",
       "      <td>Harsaw</td>\n",
       "      <td>Vestal</td>\n",
       "    </tr>\n",
       "    <tr>\n",
       "      <th>4</th>\n",
       "      <td>1583965</td>\n",
       "      <td>Matterdawn</td>\n",
       "      <td>Vestal</td>\n",
       "    </tr>\n",
       "    <tr>\n",
       "      <th>5</th>\n",
       "      <td>1943299</td>\n",
       "      <td>Mershville</td>\n",
       "      <td>Vestal</td>\n",
       "    </tr>\n",
       "    <tr>\n",
       "      <th>6</th>\n",
       "      <td>1880982</td>\n",
       "      <td>Harsaw</td>\n",
       "      <td>Torres</td>\n",
       "    </tr>\n",
       "    <tr>\n",
       "      <th>7</th>\n",
       "      <td>1305689</td>\n",
       "      <td>Harsaw</td>\n",
       "      <td>Torres</td>\n",
       "    </tr>\n",
       "    <tr>\n",
       "      <th>8</th>\n",
       "      <td>1759114</td>\n",
       "      <td>Mershville</td>\n",
       "      <td>Vestal</td>\n",
       "    </tr>\n",
       "    <tr>\n",
       "      <th>9</th>\n",
       "      <td>1745020</td>\n",
       "      <td>Matterdawn</td>\n",
       "      <td>Seth</td>\n",
       "    </tr>\n",
       "  </tbody>\n",
       "</table>\n",
       "</div>"
      ],
      "text/plain": [
       "   Voter ID      County Candidate\n",
       "0   1405627      Harsaw    Vestal\n",
       "1   1711723  Mershville    Vestal\n",
       "2   1550639  Matterdawn    Vestal\n",
       "3   1042621      Harsaw    Vestal\n",
       "4   1583965  Matterdawn    Vestal\n",
       "5   1943299  Mershville    Vestal\n",
       "6   1880982      Harsaw    Torres\n",
       "7   1305689      Harsaw    Torres\n",
       "8   1759114  Mershville    Vestal\n",
       "9   1745020  Matterdawn      Seth"
      ]
     },
     "execution_count": 64,
     "metadata": {},
     "output_type": "execute_result"
    }
   ],
   "source": [
    "election_data_1 = \"election_data_1.csv\"\n",
    "election_data_1 = pd.read_csv(election_data_1)\n",
    "election_data_1.head(10)"
   ]
  },
  {
   "cell_type": "code",
   "execution_count": 65,
   "metadata": {},
   "outputs": [
    {
     "data": {
      "text/plain": [
       "Voter ID     803000\n",
       "County       803000\n",
       "Candidate    803000\n",
       "dtype: int64"
      ]
     },
     "execution_count": 65,
     "metadata": {},
     "output_type": "execute_result"
    }
   ],
   "source": [
    "#more data\n",
    "election_data_1.count()"
   ]
  },
  {
   "cell_type": "code",
   "execution_count": 66,
   "metadata": {},
   "outputs": [
    {
     "data": {
      "text/plain": [
       "803000"
      ]
     },
     "execution_count": 66,
     "metadata": {},
     "output_type": "execute_result"
    }
   ],
   "source": [
    "#The total number of votes cast\n",
    "election_data_1[\"Voter ID\"].count()"
   ]
  },
  {
   "cell_type": "code",
   "execution_count": 67,
   "metadata": {},
   "outputs": [
    {
     "data": {
      "text/plain": [
       "<bound method DataFrame.dropna of         Voter ID      County Candidate\n",
       "0        1405627      Harsaw    Vestal\n",
       "1        1711723  Mershville    Vestal\n",
       "2        1550639  Matterdawn    Vestal\n",
       "3        1042621      Harsaw    Vestal\n",
       "4        1583965  Matterdawn    Vestal\n",
       "5        1943299  Mershville    Vestal\n",
       "6        1880982      Harsaw    Torres\n",
       "7        1305689      Harsaw    Torres\n",
       "8        1759114  Mershville    Vestal\n",
       "9        1745020  Matterdawn      Seth\n",
       "10       1562401      Harsaw    Vestal\n",
       "11       1467337      Porpus    Torres\n",
       "12       1091170  Matterdawn    Torres\n",
       "13       1947604      Harsaw    Vestal\n",
       "14       1400758  Mershville    Torres\n",
       "15       1009045  Matterdawn    Vestal\n",
       "16       1246891  Matterdawn    Cordin\n",
       "17       1744120  Matterdawn    Vestal\n",
       "18       1571939  Mershville    Vestal\n",
       "19       1936895  Matterdawn    Vestal\n",
       "20       1122582  Matterdawn    Torres\n",
       "21       1307503  Mershville    Torres\n",
       "22       1594030      Harsaw    Torres\n",
       "23       1072081  Mershville    Torres\n",
       "24       1368919  Mershville    Vestal\n",
       "25       1954121      Harsaw    Torres\n",
       "26       1427438  Matterdawn    Vestal\n",
       "27       1049416      Porpus    Torres\n",
       "28       1619112      Harsaw    Torres\n",
       "29       1725473  Mershville    Vestal\n",
       "...          ...         ...       ...\n",
       "802970   1243711      Porpus    Cordin\n",
       "802971   1165617      Harsaw    Vestal\n",
       "802972   1536635      Porpus    Torres\n",
       "802973   1952569  Mershville    Vestal\n",
       "802974   1900901      Harsaw    Vestal\n",
       "802975   1623227  Mershville    Torres\n",
       "802976   1164899      Porpus    Torres\n",
       "802977   1430310      Porpus    Torres\n",
       "802978   1421648  Mershville    Vestal\n",
       "802979   1966539  Matterdawn    Vestal\n",
       "802980   1048447      Arrent    Vestal\n",
       "802981   1220171      Arrent    Vestal\n",
       "802982   1546597  Matterdawn    Torres\n",
       "802983   1454316      Harsaw    Vestal\n",
       "802984   1273447  Matterdawn    Vestal\n",
       "802985   1642944  Matterdawn    Torres\n",
       "802986   1009803      Harsaw    Torres\n",
       "802987   1348943      Porpus    Vestal\n",
       "802988   1984510  Mershville    Vestal\n",
       "802989   1242544      Porpus    Vestal\n",
       "802990   1370412      Harsaw    Torres\n",
       "802991   1071339      Porpus    Vestal\n",
       "802992   1232786      Porpus    Vestal\n",
       "802993   1872696  Matterdawn    Torres\n",
       "802994   1818021      Porpus    Vestal\n",
       "802995   1165505      Harsaw    Vestal\n",
       "802996   1923858      Harsaw    Torres\n",
       "802997   1959786  Matterdawn    Torres\n",
       "802998   1768101  Matterdawn    Torres\n",
       "802999   1320393      Harsaw    Torres\n",
       "\n",
       "[803000 rows x 3 columns]>"
      ]
     },
     "execution_count": 67,
     "metadata": {},
     "output_type": "execute_result"
    }
   ],
   "source": [
    "#A complete list of candidates who received votes\n",
    "    #--get out NANs\n",
    "    \n",
    "election_data_1.dropna"
   ]
  },
  {
   "cell_type": "code",
   "execution_count": 68,
   "metadata": {},
   "outputs": [
    {
     "data": {
      "text/plain": [
       "array(['Vestal', 'Torres', 'Seth', 'Cordin'], dtype=object)"
      ]
     },
     "execution_count": 68,
     "metadata": {},
     "output_type": "execute_result"
    }
   ],
   "source": [
    "#A complete list of candidates who received votes\n",
    "    #--print remaining candidate names\n",
    "    \n",
    "election_data_1[\"Candidate\"].unique()"
   ]
  },
  {
   "cell_type": "code",
   "execution_count": 69,
   "metadata": {},
   "outputs": [
    {
     "data": {
      "text/plain": [
       "Vestal    385440\n",
       "Torres    353320\n",
       "Seth       40150\n",
       "Cordin     24090\n",
       "Name: Candidate, dtype: int64"
      ]
     },
     "execution_count": 69,
     "metadata": {},
     "output_type": "execute_result"
    }
   ],
   "source": [
    "election_data_1[\"Candidate\"].value_counts()"
   ]
  },
  {
   "cell_type": "code",
   "execution_count": 70,
   "metadata": {},
   "outputs": [
    {
     "data": {
      "text/plain": [
       "385440.0"
      ]
     },
     "execution_count": 70,
     "metadata": {},
     "output_type": "execute_result"
    }
   ],
   "source": [
    "# -- floats?\n",
    "float(385440)\n",
    "float(353320)\n",
    "float(40150)\n",
    "float(24090)"
   ]
  },
  {
   "cell_type": "code",
   "execution_count": 72,
   "metadata": {},
   "outputs": [
    {
     "ename": "TypeError",
     "evalue": "'numpy.int64' object is not callable",
     "output_type": "error",
     "traceback": [
      "\u001b[0;31m---------------------------------------------------------------------------\u001b[0m",
      "\u001b[0;31mTypeError\u001b[0m                                 Traceback (most recent call last)",
      "\u001b[0;32m<ipython-input-72-069284217abb>\u001b[0m in \u001b[0;36m<module>\u001b[0;34m()\u001b[0m\n\u001b[1;32m      1\u001b[0m \u001b[0;31m#The percentage of votes each candidate won\u001b[0m\u001b[0;34m\u001b[0m\u001b[0;34m\u001b[0m\u001b[0m\n\u001b[0;32m----> 2\u001b[0;31m \u001b[0mVestal_votes_percentage\u001b[0m \u001b[0;34m=\u001b[0m \u001b[0mprint\u001b[0m\u001b[0;34m(\u001b[0m\u001b[0;36m385440\u001b[0m\u001b[0;34m/\u001b[0m\u001b[0;36m803000\u001b[0m\u001b[0;34m)\u001b[0m\u001b[0;34m\u001b[0m\u001b[0m\n\u001b[0m\u001b[1;32m      3\u001b[0m \u001b[0mTorres_votes_percentage\u001b[0m \u001b[0;34m=\u001b[0m \u001b[0mprint\u001b[0m\u001b[0;34m(\u001b[0m\u001b[0;36m353320\u001b[0m\u001b[0;34m/\u001b[0m\u001b[0;36m803000\u001b[0m\u001b[0;34m)\u001b[0m\u001b[0;34m\u001b[0m\u001b[0m\n\u001b[1;32m      4\u001b[0m \u001b[0mSeth_votes_percentage\u001b[0m \u001b[0;34m=\u001b[0m \u001b[0mprint\u001b[0m\u001b[0;34m(\u001b[0m\u001b[0;36m40150\u001b[0m\u001b[0;34m/\u001b[0m\u001b[0;36m803000\u001b[0m\u001b[0;34m)\u001b[0m\u001b[0;34m\u001b[0m\u001b[0m\n\u001b[1;32m      5\u001b[0m \u001b[0mCordin_votes_percentage\u001b[0m \u001b[0;34m=\u001b[0m \u001b[0mprint\u001b[0m\u001b[0;34m(\u001b[0m\u001b[0;36m24090\u001b[0m\u001b[0;34m/\u001b[0m\u001b[0;36m803000\u001b[0m\u001b[0;34m)\u001b[0m\u001b[0;34m\u001b[0m\u001b[0m\n",
      "\u001b[0;31mTypeError\u001b[0m: 'numpy.int64' object is not callable"
     ]
    }
   ],
   "source": [
    "#The percentage of votes each candidate won\n",
    "Vestal_votes_percentage = print(385440/803000)\n",
    "Torres_votes_percentage = print(353320/803000)\n",
    "Seth_votes_percentage = print(40150/803000)\n",
    "Cordin_votes_percentage = print(24090/803000)"
   ]
  },
  {
   "cell_type": "code",
   "execution_count": null,
   "metadata": {
    "collapsed": true
   },
   "outputs": [],
   "source": [
    "#The total number of votes each candidate won\n",
    "Vestal_votes = Vestal_votes_percentage * 100\n",
    "Torres_votes = Torres_votes_percentage * 100\n",
    "Seth_votes = Seth_votes_percentage * 100\n",
    "Cordin_votes = Cordin_votes_percentage * 100"
   ]
  },
  {
   "cell_type": "code",
   "execution_count": null,
   "metadata": {
    "collapsed": true
   },
   "outputs": [],
   "source": [
    "#The winner of the election based on popular vote.\n",
    "    #--cycle through, get highest number?"
   ]
  },
  {
   "cell_type": "code",
   "execution_count": null,
   "metadata": {},
   "outputs": [],
   "source": [
    "#print(\"Election Results\")\n",
    "#print(\"-------------------------\")\n",
    "#print(\"Total Votes:\" +)\n",
    "#print(\"-------------------------\")\n",
    "#print(\"Rogers: \" +)\n",
    "#print(\"Gomez: \" +)\n",
    "#print(\"Brentwood: \" +)\n",
    "#print(\"Higgins: \" +)\n",
    "#print(\"-------------------------\")\n",
    "#print(\"Winner: \" +)"
   ]
  }
 ],
 "metadata": {
  "kernelspec": {
   "display_name": "Python [conda env:PythonData]",
   "language": "python",
   "name": "conda-env-PythonData-py"
  },
  "language_info": {
   "codemirror_mode": {
    "name": "ipython",
    "version": 3
   },
   "file_extension": ".py",
   "mimetype": "text/x-python",
   "name": "python",
   "nbconvert_exporter": "python",
   "pygments_lexer": "ipython3",
   "version": "3.6.3"
  }
 },
 "nbformat": 4,
 "nbformat_minor": 2
}
