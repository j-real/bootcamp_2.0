{
 "cells": [
  {
   "cell_type": "code",
   "execution_count": null,
   "metadata": {
    "collapsed": true
   },
   "outputs": [],
   "source": [
    "# Link = http://localhost:8888/notebooks/Desktop/Repositories/Bootcamp_repository/UCIRV201801DATA3-Class-Repository-DATA/02-Homework/04-Numpy-Pandas/Instructions/HeroesOfPymoli/04%20-%20Pandas%20Homework%20-%20Heroes%20of%20Pymoli.ipynb\n",
    "# You must include an exported markdown version of your Notebook called  `README.md` in your GitHub repository = I have no idea what this means.\n",
    "# Observable Trend 1: Final Critic, Arcane Gem, Betrayal Whisper of Grieving Widows, Stormcaller, and Woeful Adamantite Claymoreare the top five most purchased items\n",
    "# Observable Trend 2:\n",
    "# Observable Trend 3:"
   ]
  },
  {
   "cell_type": "code",
   "execution_count": 112,
   "metadata": {
    "collapsed": true
   },
   "outputs": [],
   "source": [
    "import os\n",
    "import csv\n",
    "import numpy as np\n",
    "import pandas as pd\n",
    "import matplotlib.pyplot as plt\n",
    "import requests\n",
    "import time\n",
    "import json\n",
    "import seaborn\n",
    "from scipy.stats import ttest_ind\n",
    "import math "
   ]
  },
  {
   "cell_type": "code",
   "execution_count": 113,
   "metadata": {},
   "outputs": [],
   "source": [
    "purchase_data_1 = pd.read_json('purchase_data.json')"
   ]
  },
  {
   "cell_type": "code",
   "execution_count": 114,
   "metadata": {},
   "outputs": [
    {
     "data": {
      "text/html": [
       "<div>\n",
       "<style>\n",
       "    .dataframe thead tr:only-child th {\n",
       "        text-align: right;\n",
       "    }\n",
       "\n",
       "    .dataframe thead th {\n",
       "        text-align: left;\n",
       "    }\n",
       "\n",
       "    .dataframe tbody tr th {\n",
       "        vertical-align: top;\n",
       "    }\n",
       "</style>\n",
       "<table border=\"1\" class=\"dataframe\">\n",
       "  <thead>\n",
       "    <tr style=\"text-align: right;\">\n",
       "      <th></th>\n",
       "      <th>Age</th>\n",
       "      <th>Gender</th>\n",
       "      <th>Item ID</th>\n",
       "      <th>Item Name</th>\n",
       "      <th>Price</th>\n",
       "      <th>SN</th>\n",
       "    </tr>\n",
       "  </thead>\n",
       "  <tbody>\n",
       "    <tr>\n",
       "      <th>0</th>\n",
       "      <td>38</td>\n",
       "      <td>Male</td>\n",
       "      <td>165</td>\n",
       "      <td>Bone Crushing Silver Skewer</td>\n",
       "      <td>3.37</td>\n",
       "      <td>Aelalis34</td>\n",
       "    </tr>\n",
       "    <tr>\n",
       "      <th>1</th>\n",
       "      <td>21</td>\n",
       "      <td>Male</td>\n",
       "      <td>119</td>\n",
       "      <td>Stormbringer, Dark Blade of Ending Misery</td>\n",
       "      <td>2.32</td>\n",
       "      <td>Eolo46</td>\n",
       "    </tr>\n",
       "    <tr>\n",
       "      <th>2</th>\n",
       "      <td>34</td>\n",
       "      <td>Male</td>\n",
       "      <td>174</td>\n",
       "      <td>Primitive Blade</td>\n",
       "      <td>2.46</td>\n",
       "      <td>Assastnya25</td>\n",
       "    </tr>\n",
       "    <tr>\n",
       "      <th>3</th>\n",
       "      <td>21</td>\n",
       "      <td>Male</td>\n",
       "      <td>92</td>\n",
       "      <td>Final Critic</td>\n",
       "      <td>1.36</td>\n",
       "      <td>Pheusrical25</td>\n",
       "    </tr>\n",
       "    <tr>\n",
       "      <th>4</th>\n",
       "      <td>23</td>\n",
       "      <td>Male</td>\n",
       "      <td>63</td>\n",
       "      <td>Stormfury Mace</td>\n",
       "      <td>1.27</td>\n",
       "      <td>Aela59</td>\n",
       "    </tr>\n",
       "    <tr>\n",
       "      <th>5</th>\n",
       "      <td>20</td>\n",
       "      <td>Male</td>\n",
       "      <td>10</td>\n",
       "      <td>Sleepwalker</td>\n",
       "      <td>1.73</td>\n",
       "      <td>Tanimnya91</td>\n",
       "    </tr>\n",
       "    <tr>\n",
       "      <th>6</th>\n",
       "      <td>20</td>\n",
       "      <td>Male</td>\n",
       "      <td>153</td>\n",
       "      <td>Mercenary Sabre</td>\n",
       "      <td>4.57</td>\n",
       "      <td>Undjaskla97</td>\n",
       "    </tr>\n",
       "    <tr>\n",
       "      <th>7</th>\n",
       "      <td>29</td>\n",
       "      <td>Female</td>\n",
       "      <td>169</td>\n",
       "      <td>Interrogator, Blood Blade of the Queen</td>\n",
       "      <td>3.32</td>\n",
       "      <td>Iathenudil29</td>\n",
       "    </tr>\n",
       "    <tr>\n",
       "      <th>8</th>\n",
       "      <td>25</td>\n",
       "      <td>Male</td>\n",
       "      <td>118</td>\n",
       "      <td>Ghost Reaver, Longsword of Magic</td>\n",
       "      <td>2.77</td>\n",
       "      <td>Sondenasta63</td>\n",
       "    </tr>\n",
       "    <tr>\n",
       "      <th>9</th>\n",
       "      <td>31</td>\n",
       "      <td>Male</td>\n",
       "      <td>99</td>\n",
       "      <td>Expiration, Warscythe Of Lost Worlds</td>\n",
       "      <td>4.53</td>\n",
       "      <td>Hilaerin92</td>\n",
       "    </tr>\n",
       "  </tbody>\n",
       "</table>\n",
       "</div>"
      ],
      "text/plain": [
       "   Age  Gender  Item ID                                  Item Name  Price  \\\n",
       "0   38    Male      165                Bone Crushing Silver Skewer   3.37   \n",
       "1   21    Male      119  Stormbringer, Dark Blade of Ending Misery   2.32   \n",
       "2   34    Male      174                            Primitive Blade   2.46   \n",
       "3   21    Male       92                               Final Critic   1.36   \n",
       "4   23    Male       63                             Stormfury Mace   1.27   \n",
       "5   20    Male       10                                Sleepwalker   1.73   \n",
       "6   20    Male      153                            Mercenary Sabre   4.57   \n",
       "7   29  Female      169     Interrogator, Blood Blade of the Queen   3.32   \n",
       "8   25    Male      118           Ghost Reaver, Longsword of Magic   2.77   \n",
       "9   31    Male       99       Expiration, Warscythe Of Lost Worlds   4.53   \n",
       "\n",
       "             SN  \n",
       "0     Aelalis34  \n",
       "1        Eolo46  \n",
       "2   Assastnya25  \n",
       "3  Pheusrical25  \n",
       "4        Aela59  \n",
       "5    Tanimnya91  \n",
       "6   Undjaskla97  \n",
       "7  Iathenudil29  \n",
       "8  Sondenasta63  \n",
       "9    Hilaerin92  "
      ]
     },
     "execution_count": 114,
     "metadata": {},
     "output_type": "execute_result"
    }
   ],
   "source": [
    "purchase_data_1.head(10)"
   ]
  },
  {
   "cell_type": "code",
   "execution_count": 144,
   "metadata": {
    "scrolled": true
   },
   "outputs": [
    {
     "ename": "AttributeError",
     "evalue": "'numpy.int64' object has no attribute 'len'",
     "output_type": "error",
     "traceback": [
      "\u001b[0;31m---------------------------------------------------------------------------\u001b[0m",
      "\u001b[0;31mAttributeError\u001b[0m                            Traceback (most recent call last)",
      "\u001b[0;32m<ipython-input-144-887c82da1eb5>\u001b[0m in \u001b[0;36m<module>\u001b[0;34m()\u001b[0m\n\u001b[1;32m      1\u001b[0m \u001b[0;31m# Player Count: Total Number of Players\u001b[0m\u001b[0;34m\u001b[0m\u001b[0;34m\u001b[0m\u001b[0m\n\u001b[0;32m----> 2\u001b[0;31m \u001b[0mpurchase_data_1\u001b[0m\u001b[0;34m[\u001b[0m\u001b[0;34m\"SN\"\u001b[0m\u001b[0;34m]\u001b[0m\u001b[0;34m.\u001b[0m\u001b[0mcount\u001b[0m\u001b[0;34m(\u001b[0m\u001b[0;34m)\u001b[0m\u001b[0;34m.\u001b[0m\u001b[0mlen\u001b[0m\u001b[0;34m(\u001b[0m\u001b[0;34m)\u001b[0m\u001b[0;34m\u001b[0m\u001b[0m\n\u001b[0m\u001b[1;32m      3\u001b[0m \u001b[0;34m\u001b[0m\u001b[0m\n\u001b[1;32m      4\u001b[0m \u001b[0;31m# = 780 players\u001b[0m\u001b[0;34m\u001b[0m\u001b[0;34m\u001b[0m\u001b[0m\n",
      "\u001b[0;31mAttributeError\u001b[0m: 'numpy.int64' object has no attribute 'len'"
     ]
    }
   ],
   "source": [
    "# Player Count: Total Number of Players\n",
    "purchase_data_1[\"SN\"].count().len()\n",
    "\n",
    "# = 780 players"
   ]
  },
  {
   "cell_type": "code",
   "execution_count": 140,
   "metadata": {},
   "outputs": [
    {
     "data": {
      "text/plain": [
       "Final Critic                                    14\n",
       "Arcane Gem                                      11\n",
       "Betrayal, Whisper of Grieving Widows            11\n",
       "Stormcaller                                     10\n",
       "Woeful Adamantite Claymore                       9\n",
       "Retribution Axe                                  9\n",
       "Trickster                                        9\n",
       "Serenity                                         9\n",
       "Darkheart                                        8\n",
       "Bonecarvin Battle Axe                            8\n",
       "Crying Steel Sickle                              8\n",
       "Splitter, Foe Of Subtlety                        8\n",
       "Crucifer                                         8\n",
       "Conqueror Adamantite Mace                        8\n",
       "Alpha                                            7\n",
       "Persuasion                                       7\n",
       "Extraction, Quickblade Of Trembling Hands        7\n",
       "Brimstone                                        7\n",
       "Darkheart, Butcher of the Champion               7\n",
       "Spectral Diamond Doomblade                       7\n",
       "Victor Iron Spikes                               7\n",
       "Alpha, Oath of Zeal                              7\n",
       "Feral Katana                                     7\n",
       "Blade of the Grave                               7\n",
       "Wolf, Promise of the Moonwalker                  7\n",
       "Torchlight, Bond of Storms                       7\n",
       "Venom Claymore                                   6\n",
       "Fiery Glass Crusader                             6\n",
       "Soul Infused Crystal                             6\n",
       "Massacre                                         6\n",
       "                                                ..\n",
       "Emberling, Defender of Delusions                 2\n",
       "Worldbreaker                                     2\n",
       "Warped Iron Scimitar                             2\n",
       "Malice, Legacy of the Queen                      2\n",
       "Oathbreaker, Last Hope of the Breaking Storm     2\n",
       "Vindictive Glass Edge                            2\n",
       "Warped Fetish                                    2\n",
       "Piece Maker                                      2\n",
       "Deathraze                                        2\n",
       "Thorn, Conqueror of the Corrupted                2\n",
       "Pursuit, Cudgel of Necromancy                    2\n",
       "Dreamsong                                        2\n",
       "Yearning Crusher                                 2\n",
       "Winter's Bite                                    2\n",
       "Freak's Bite, Favor of Holy Might                2\n",
       "Fusion Pummel                                    2\n",
       "Soul-Forged Steel Shortsword                     1\n",
       "Downfall, Scalpel Of The Emperor                 1\n",
       "Hellreaver, Heirloom of Inception                1\n",
       "Splinter                                         1\n",
       "Foul Edge                                        1\n",
       "Sun Strike, Jaws of Twisted Visions              1\n",
       "Exiled Doomblade                                 1\n",
       "Flux, Destroyer of Due Diligence                 1\n",
       "Exiled Mithril Longsword                         1\n",
       "Verdict                                          1\n",
       "Phantomlight                                     1\n",
       "Lightning, Etcher of the King                    1\n",
       "Bloodlord's Fetish                               1\n",
       "Ghastly Adamantite Protector                     1\n",
       "Name: Item Name, Length: 179, dtype: int64"
      ]
     },
     "execution_count": 140,
     "metadata": {},
     "output_type": "execute_result"
    }
   ],
   "source": [
    "#**Purchasing Analysis (Total)**\n",
    "    #* Number of Unique Items\n",
    "purchase_data_1[\"Item Name\"].value_counts()\n",
    "\n",
    "# = 179 items"
   ]
  },
  {
   "cell_type": "code",
   "execution_count": 117,
   "metadata": {},
   "outputs": [
    {
     "data": {
      "text/plain": [
       "2.931192307692303"
      ]
     },
     "execution_count": 117,
     "metadata": {},
     "output_type": "execute_result"
    }
   ],
   "source": [
    "    #* Average Purchase Price\n",
    "purchase_data_1[\"Price\"].mean()"
   ]
  },
  {
   "cell_type": "code",
   "execution_count": 118,
   "metadata": {},
   "outputs": [
    {
     "data": {
      "text/plain": [
       "2286.3299999999963"
      ]
     },
     "execution_count": 118,
     "metadata": {},
     "output_type": "execute_result"
    }
   ],
   "source": [
    "    #* Total Number of Purchases\n",
    "purchase_data_1[\"Price\"].sum()"
   ]
  },
  {
   "cell_type": "code",
   "execution_count": 119,
   "metadata": {},
   "outputs": [],
   "source": [
    "    #* Total Revenue\n",
    "rev = purchase_data_1[\"Price\"].mean()*purchase_data_1[\"Price\"].sum()"
   ]
  },
  {
   "cell_type": "code",
   "execution_count": 120,
   "metadata": {
    "collapsed": true
   },
   "outputs": [],
   "source": [
    "#**Gender Demographics**\n",
    "    #* Percentage and Count of Male Players\n",
    "    #* Percentage and Count of Female Players\n",
    "    #* Percentage and Count of Other / Non-Disclosed\n",
    "    \n",
    "# = Count below\n",
    "# = Percentage\n",
    "# Male: .81\n",
    "# Female: .17\n",
    "# Non-Disclosed: .01"
   ]
  },
  {
   "cell_type": "code",
   "execution_count": 121,
   "metadata": {},
   "outputs": [
    {
     "data": {
      "text/plain": [
       "Male                     633\n",
       "Female                   136\n",
       "Other / Non-Disclosed     11\n",
       "Name: Gender, dtype: int64"
      ]
     },
     "execution_count": 121,
     "metadata": {},
     "output_type": "execute_result"
    }
   ],
   "source": [
    "purchase_data_1[\"Gender\"].value_counts()"
   ]
  },
  {
   "cell_type": "code",
   "execution_count": 122,
   "metadata": {},
   "outputs": [],
   "source": [
    "#**Purchasing Analysis (Gender)** \n",
    "#* The below each broken by gender\n",
    "  #* Purchase Count\n",
    "\n",
    "# = I don't understand what this question is asking."
   ]
  },
  {
   "cell_type": "code",
   "execution_count": 123,
   "metadata": {},
   "outputs": [
    {
     "data": {
      "text/plain": [
       "Price    2.931192\n",
       "dtype: float64"
      ]
     },
     "execution_count": 123,
     "metadata": {},
     "output_type": "execute_result"
    }
   ],
   "source": [
    "  #* Average Purchase Price\n",
    "purchase_data_1[[\"Price\",\"Gender\"]].mean()"
   ]
  },
  {
   "cell_type": "code",
   "execution_count": 124,
   "metadata": {},
   "outputs": [
    {
     "data": {
      "text/plain": [
       "Price                                               2286.33\n",
       "Gender    MaleMaleMaleMaleMaleMaleMaleFemaleMaleMaleMale...\n",
       "dtype: object"
      ]
     },
     "execution_count": 124,
     "metadata": {},
     "output_type": "execute_result"
    }
   ],
   "source": [
    "  #* Total Purchase Value\n",
    "    \n",
    "# = Not really sure what this means. Total sum?\n",
    "purchase_data_1[[\"Price\",\"Gender\"]].sum()"
   ]
  },
  {
   "cell_type": "code",
   "execution_count": 125,
   "metadata": {
    "collapsed": true
   },
   "outputs": [],
   "source": [
    "  #* Normalized Totals\n",
    "# = Not idea what this means :("
   ]
  },
  {
   "cell_type": "code",
   "execution_count": 126,
   "metadata": {
    "collapsed": true
   },
   "outputs": [],
   "source": [
    "#**Age Demographics**\n",
    "#* The below each broken into bins of 4 years (i.e. &lt;10, 10-14, 15-19, etc.) "
   ]
  },
  {
   "cell_type": "code",
   "execution_count": 134,
   "metadata": {},
   "outputs": [
    {
     "data": {
      "text/plain": [
       "0                High\n",
       "1            Moderate\n",
       "2            Moderate\n",
       "3      Somewhat Cheap\n",
       "4      Somewhat Cheap\n",
       "5      Somewhat Cheap\n",
       "6           Very High\n",
       "7                High\n",
       "8            Moderate\n",
       "9           Very High\n",
       "10               High\n",
       "11     Somewhat Cheap\n",
       "12          Very High\n",
       "13               High\n",
       "14           Moderate\n",
       "15          Very High\n",
       "16     Somewhat Cheap\n",
       "17     Somewhat Cheap\n",
       "18               High\n",
       "19          Very High\n",
       "20           Moderate\n",
       "21     Somewhat Cheap\n",
       "22           Moderate\n",
       "23           Moderate\n",
       "24     Somewhat Cheap\n",
       "25     Somewhat Cheap\n",
       "26               High\n",
       "27           Moderate\n",
       "28          Very High\n",
       "29           Moderate\n",
       "            ...      \n",
       "750    Somewhat Cheap\n",
       "751    Somewhat Cheap\n",
       "752          Moderate\n",
       "753          Moderate\n",
       "754    Somewhat Cheap\n",
       "755    Somewhat Cheap\n",
       "756    Somewhat Cheap\n",
       "757          Moderate\n",
       "758    Somewhat Cheap\n",
       "759          Moderate\n",
       "760         Very High\n",
       "761    Somewhat Cheap\n",
       "762         Very High\n",
       "763         Very High\n",
       "764              High\n",
       "765    Somewhat Cheap\n",
       "766          Moderate\n",
       "767    Somewhat Cheap\n",
       "768              High\n",
       "769              High\n",
       "770              High\n",
       "771    Somewhat Cheap\n",
       "772          Moderate\n",
       "773          Moderate\n",
       "774    Somewhat Cheap\n",
       "775              High\n",
       "776    Somewhat Cheap\n",
       "777         Very High\n",
       "778    Somewhat Cheap\n",
       "779              High\n",
       "Name: Price, Length: 780, dtype: category\n",
       "Categories (5, object): [Cheap < Somewhat Cheap < Moderate < High < Very High]"
      ]
     },
     "execution_count": 134,
     "metadata": {},
     "output_type": "execute_result"
    }
   ],
   "source": [
    "bins = [0,1,2,3,4,5]\n",
    "group_names = ['Cheap', 'Somewhat Cheap', 'Moderate', 'High', 'Very High']\n",
    "\n",
    "pd.cut(purchase_data_1[\"Price\"], bins, labels=group_names)"
   ]
  },
  {
   "cell_type": "code",
   "execution_count": null,
   "metadata": {
    "collapsed": true
   },
   "outputs": [],
   "source": [
    "  #* Purchase Count\n",
    "  #* Average Purchase Price\n",
    "  #* Total Purchase Value\n",
    "  #* Normalized Totals\n",
    "\n",
    "# = I don't understand the math for this part."
   ]
  },
  {
   "cell_type": "code",
   "execution_count": null,
   "metadata": {
    "collapsed": true
   },
   "outputs": [],
   "source": [
    "#**Top Spenders**\n",
    "#* Identify the the top 5 spenders in the game by total purchase value, then list (in a table):\n",
    "  #* SN\n",
    "  #* Purchase Count\n",
    "  #* Average Purchase Price\n",
    "  #* Total Purchase Value\n",
    "\n",
    "# = I don't understand the math for this part or the headers. I guess you'd find whoever \n",
    "    #purchased the most (sum of top price and frequency?) and make a table from that."
   ]
  },
  {
   "cell_type": "code",
   "execution_count": 143,
   "metadata": {},
   "outputs": [
    {
     "data": {
      "text/plain": [
       "Final Critic                            14\n",
       "Arcane Gem                              11\n",
       "Betrayal, Whisper of Grieving Widows    11\n",
       "Stormcaller                             10\n",
       "Woeful Adamantite Claymore               9\n",
       "Name: Item Name, dtype: int64"
      ]
     },
     "execution_count": 143,
     "metadata": {},
     "output_type": "execute_result"
    }
   ],
   "source": [
    "#**Most Popular Items**\n",
    "#* Identify the 5 most popular items by purchase count, then list (in a table):\n",
    "purchase_data_1[\"Item Name\"].value_counts().nlargest(5)"
   ]
  },
  {
   "cell_type": "code",
   "execution_count": null,
   "metadata": {
    "collapsed": true
   },
   "outputs": [],
   "source": [
    "  #* Item ID\n",
    "  #* Item Name:\n",
    "  #* Purchase Count\n",
    "  #* Item Price\n",
    "  #* Total Purchase Value\n",
    "    \n",
    "# = I'm not understanding what purchase count is."
   ]
  },
  {
   "cell_type": "code",
   "execution_count": null,
   "metadata": {},
   "outputs": [],
   "source": [
    "#* Identify the 5 most profitable items by total purchase value, then list (in a table):\n",
    "  #* Item ID\n",
    "  #* Item Name\n",
    "  #* Purchase Count\n",
    "  #* Item Price\n",
    "  #* Total Purchase Value\n",
    "    \n",
    "# = I'm not understanding what purchase count is."
   ]
  }
 ],
 "metadata": {
  "kernelspec": {
   "display_name": "Python [conda env:PythonData]",
   "language": "python",
   "name": "conda-env-PythonData-py"
  },
  "language_info": {
   "codemirror_mode": {
    "name": "ipython",
    "version": 3
   },
   "file_extension": ".py",
   "mimetype": "text/x-python",
   "name": "python",
   "nbconvert_exporter": "python",
   "pygments_lexer": "ipython3",
   "version": "3.6.3"
  }
 },
 "nbformat": 4,
 "nbformat_minor": 2
}
