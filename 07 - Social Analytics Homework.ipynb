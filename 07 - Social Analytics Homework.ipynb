{
 "cells": [
  {
   "cell_type": "code",
   "execution_count": 1,
   "metadata": {},
   "outputs": [],
   "source": [
    "import json\n",
    "import random\n",
    "import tweepy\n",
    "import pandas as pd\n",
    "import matplotlib.pyplot as plt\n",
    "import numpy as np\n",
    "from config import consumer_key, consumer_key_secret, access_token, access_token_secret\n",
    "\n",
    "from vaderSentiment.vaderSentiment import SentimentIntensityAnalyzer\n",
    "analyzer = SentimentIntensityAnalyzer()"
   ]
  },
  {
   "cell_type": "code",
   "execution_count": 2,
   "metadata": {},
   "outputs": [],
   "source": [
    "# Setup Tweepy API Authentication\n",
    "auth = tweepy.OAuthHandler(consumer_key, consumer_key_secret)\n",
    "auth.set_access_token(access_token, access_token_secret)\n",
    "api = tweepy.API(auth, parser=tweepy.parsers.JSONParser())"
   ]
  },
  {
   "cell_type": "code",
   "execution_count": 3,
   "metadata": {},
   "outputs": [
    {
     "name": "stdout",
     "output_type": "stream",
     "text": [
      "User: BBCWorld\n",
      "Compound: -0.093\n",
      "Positive: 0.110\n",
      "Neutral: 0.745\n",
      "Negative: 0.145\n"
     ]
    }
   ],
   "source": [
    "# Target User Account\n",
    "target_user = \"BBCWorld\"\n",
    "\n",
    "# Variables for holding sentiments\n",
    "BBC_compound_list = []\n",
    "BBC_positive_list = []\n",
    "BBC_negative_list = []\n",
    "BBC_neutral_list = []\n",
    "\n",
    "# Loop through 5 pages of tweets (total 100 tweets)\n",
    "for x in range(5):\n",
    "\n",
    "   # Get all tweets from home feed\n",
    "   public_tweets = api.user_timeline(target_user)\n",
    "\n",
    "   # Loop through all tweets\n",
    "   for tweet in public_tweets:\n",
    "\n",
    "       # Run Vader Analysis on each tweet\n",
    "       results = analyzer.polarity_scores(tweet[\"text\"])\n",
    "       compound = results[\"compound\"]\n",
    "       pos = results[\"pos\"]\n",
    "       neu = results[\"neu\"]\n",
    "       neg = results[\"neg\"]\n",
    "\n",
    "       # Add each value to the appropriate list\n",
    "       BBC_compound_list.append(compound)\n",
    "       BBC_positive_list.append(pos)\n",
    "       BBC_negative_list.append(neg)\n",
    "       BBC_neutral_list.append(neu)\n",
    "\n",
    "# Print the Averages\n",
    "print(f\"User: {target_user}\")\n",
    "print(f\"Compound: {np.mean(BBC_compound_list):.3f}\")\n",
    "print(f\"Positive: {np.mean(BBC_positive_list):.3f}\")\n",
    "print(f\"Neutral: {np.mean(BBC_neutral_list):.3f}\")\n",
    "print(f\"Negative: {np.mean(BBC_negative_list):.3f}\")"
   ]
  },
  {
   "cell_type": "code",
   "execution_count": 4,
   "metadata": {},
   "outputs": [
    {
     "name": "stdout",
     "output_type": "stream",
     "text": [
      "User: CBS\n",
      "Compound: 0.347\n",
      "Positive: 0.133\n",
      "Neutral: 0.861\n",
      "Negative: 0.005\n"
     ]
    }
   ],
   "source": [
    "# Target User Account\n",
    "target_user = \"CBS\"\n",
    "\n",
    "# Variables for holding sentiments\n",
    "CBS_compound_list = []\n",
    "CBS_positive_list = []\n",
    "CBS_negative_list = []\n",
    "CBS_neutral_list = []\n",
    "\n",
    "# Loop through 5 pages of tweets (total 100 tweets)\n",
    "for x in range(5):\n",
    "\n",
    "   # Get all tweets from home feed\n",
    "   public_tweets = api.user_timeline(target_user)\n",
    "\n",
    "   # Loop through all tweets\n",
    "   for tweet in public_tweets:\n",
    "\n",
    "       # Run Vader Analysis on each tweet\n",
    "       results = analyzer.polarity_scores(tweet[\"text\"])\n",
    "       compound = results[\"compound\"]\n",
    "       pos = results[\"pos\"]\n",
    "       neu = results[\"neu\"]\n",
    "       neg = results[\"neg\"]\n",
    "\n",
    "       # Add each value to the appropriate list\n",
    "       CBS_compound_list.append(compound)\n",
    "       CBS_positive_list.append(pos)\n",
    "       CBS_negative_list.append(neg)\n",
    "       CBS_neutral_list.append(neu)\n",
    "\n",
    "# Print the Averages\n",
    "print(f\"User: {target_user}\")\n",
    "print(f\"Compound: {np.mean(CBS_compound_list):.3f}\")\n",
    "print(f\"Positive: {np.mean(CBS_positive_list):.3f}\")\n",
    "print(f\"Neutral: {np.mean(CBS_neutral_list):.3f}\")\n",
    "print(f\"Negative: {np.mean(CBS_negative_list):.3f}\")"
   ]
  },
  {
   "cell_type": "code",
   "execution_count": 5,
   "metadata": {},
   "outputs": [
    {
     "name": "stdout",
     "output_type": "stream",
     "text": [
      "User: CNN\n",
      "Compound: -0.177\n",
      "Positive: 0.043\n",
      "Neutral: 0.856\n",
      "Negative: 0.102\n"
     ]
    }
   ],
   "source": [
    "# Target User Account\n",
    "target_user = \"CNN\"\n",
    "\n",
    "# Variables for holding sentiments\n",
    "CNN_compound_list = []\n",
    "CNN_positive_list = []\n",
    "CNN_negative_list = []\n",
    "CNN_neutral_list = []\n",
    "\n",
    "# Loop through 5 pages of tweets (total 100 tweets)\n",
    "for x in range(5):\n",
    "\n",
    "   # Get all tweets from home feed\n",
    "   public_tweets = api.user_timeline(target_user)\n",
    "\n",
    "   # Loop through all tweets\n",
    "   for tweet in public_tweets:\n",
    "\n",
    "       # Run Vader Analysis on each tweet\n",
    "       results = analyzer.polarity_scores(tweet[\"text\"])\n",
    "       compound = results[\"compound\"]\n",
    "       pos = results[\"pos\"]\n",
    "       neu = results[\"neu\"]\n",
    "       neg = results[\"neg\"]\n",
    "\n",
    "       # Add each value to the appropriate list\n",
    "       CNN_compound_list.append(compound)\n",
    "       CNN_positive_list.append(pos)\n",
    "       CNN_negative_list.append(neg)\n",
    "       CNN_neutral_list.append(neu)\n",
    "\n",
    "# Print the Averages\n",
    "print(f\"User: {target_user}\")\n",
    "print(f\"Compound: {np.mean(CNN_compound_list):.3f}\")\n",
    "print(f\"Positive: {np.mean(CNN_positive_list):.3f}\")\n",
    "print(f\"Neutral: {np.mean(CNN_neutral_list):.3f}\")\n",
    "print(f\"Negative: {np.mean(CNN_negative_list):.3f}\")"
   ]
  },
  {
   "cell_type": "code",
   "execution_count": 6,
   "metadata": {},
   "outputs": [
    {
     "name": "stdout",
     "output_type": "stream",
     "text": [
      "User: FoxNews\n",
      "Compound: -0.121\n",
      "Positive: 0.041\n",
      "Neutral: 0.858\n",
      "Negative: 0.101\n"
     ]
    }
   ],
   "source": [
    "# Target User Account\n",
    "target_user = \"FoxNews\"\n",
    "\n",
    "# Variables for holding sentiments\n",
    "FoxNews_compound_list = []\n",
    "FoxNews_positive_list = []\n",
    "FoxNews_negative_list = []\n",
    "FoxNews_neutral_list = []\n",
    "\n",
    "# Loop through 5 pages of tweets (total 100 tweets)\n",
    "for x in range(5):\n",
    "\n",
    "   # Get all tweets from home feed\n",
    "   public_tweets = api.user_timeline(target_user)\n",
    "\n",
    "   # Loop through all tweets\n",
    "   for tweet in public_tweets:\n",
    "\n",
    "       # Run Vader Analysis on each tweet\n",
    "       results = analyzer.polarity_scores(tweet[\"text\"])\n",
    "       compound = results[\"compound\"]\n",
    "       pos = results[\"pos\"]\n",
    "       neu = results[\"neu\"]\n",
    "       neg = results[\"neg\"]\n",
    "\n",
    "       # Add each value to the appropriate list\n",
    "       FoxNews_compound_list.append(compound)\n",
    "       FoxNews_positive_list.append(pos)\n",
    "       FoxNews_negative_list.append(neg)\n",
    "       FoxNews_neutral_list.append(neu)\n",
    "\n",
    "# Print the Averages\n",
    "print(f\"User: {target_user}\")\n",
    "print(f\"Compound: {np.mean(FoxNews_compound_list):.3f}\")\n",
    "print(f\"Positive: {np.mean(FoxNews_positive_list):.3f}\")\n",
    "print(f\"Neutral: {np.mean(FoxNews_neutral_list):.3f}\")\n",
    "print(f\"Negative: {np.mean(FoxNews_negative_list):.3f}\")"
   ]
  },
  {
   "cell_type": "code",
   "execution_count": 7,
   "metadata": {},
   "outputs": [
    {
     "name": "stdout",
     "output_type": "stream",
     "text": [
      "User: NYTimes\n",
      "Compound: 0.007\n",
      "Positive: 0.042\n",
      "Neutral: 0.923\n",
      "Negative: 0.034\n"
     ]
    }
   ],
   "source": [
    "# Target User Account\n",
    "target_user = \"NYTimes\"\n",
    "\n",
    "# Variables for holding sentiments\n",
    "NYTimes_compound_list = []\n",
    "NYTimes_positive_list = []\n",
    "NYTimes_negative_list = []\n",
    "NYTimes_neutral_list = []\n",
    "\n",
    "# Loop through 5 pages of tweets (total 100 tweets)\n",
    "for x in range(5):\n",
    "\n",
    "   # Get all tweets from home feed\n",
    "   public_tweets = api.user_timeline(target_user)\n",
    "\n",
    "   # Loop through all tweets\n",
    "   for tweet in public_tweets:\n",
    "\n",
    "       # Run Vader Analysis on each tweet\n",
    "       results = analyzer.polarity_scores(tweet[\"text\"])\n",
    "       compound = results[\"compound\"]\n",
    "       pos = results[\"pos\"]\n",
    "       neu = results[\"neu\"]\n",
    "       neg = results[\"neg\"]\n",
    "\n",
    "       # Add each value to the appropriate list\n",
    "       NYTimes_compound_list.append(compound)\n",
    "       NYTimes_positive_list.append(pos)\n",
    "       NYTimes_negative_list.append(neg)\n",
    "       NYTimes_neutral_list.append(neu)\n",
    "\n",
    "# Print the Averages\n",
    "print(f\"User: {target_user}\")\n",
    "print(f\"Compound: {np.mean(NYTimes_compound_list):.3f}\")\n",
    "print(f\"Positive: {np.mean(NYTimes_positive_list):.3f}\")\n",
    "print(f\"Neutral: {np.mean(NYTimes_neutral_list):.3f}\")\n",
    "print(f\"Negative: {np.mean(NYTimes_negative_list):.3f}\")"
   ]
  },
  {
   "cell_type": "code",
   "execution_count": 8,
   "metadata": {},
   "outputs": [
    {
     "ename": "ValueError",
     "evalue": "x and y must be the same size",
     "output_type": "error",
     "traceback": [
      "\u001b[0;31m---------------------------------------------------------------------------\u001b[0m",
      "\u001b[0;31mValueError\u001b[0m                                Traceback (most recent call last)",
      "\u001b[0;32m<ipython-input-8-f0d0b748a1f2>\u001b[0m in \u001b[0;36m<module>\u001b[0;34m()\u001b[0m\n\u001b[1;32m     13\u001b[0m \u001b[0;31m# Tells matplotlib that we want to make a scatter plot\u001b[0m\u001b[0;34m\u001b[0m\u001b[0;34m\u001b[0m\u001b[0m\n\u001b[1;32m     14\u001b[0m \u001b[0;31m# The size of each point on our plot is determined by their x value\u001b[0m\u001b[0;34m\u001b[0m\u001b[0;34m\u001b[0m\u001b[0m\n\u001b[0;32m---> 15\u001b[0;31m \u001b[0mplt\u001b[0m\u001b[0;34m.\u001b[0m\u001b[0mscatter\u001b[0m\u001b[0;34m(\u001b[0m\u001b[0mx_axis\u001b[0m\u001b[0;34m,\u001b[0m \u001b[0mdata\u001b[0m\u001b[0;34m,\u001b[0m \u001b[0mmarker\u001b[0m\u001b[0;34m=\u001b[0m\u001b[0;34m\"o\"\u001b[0m\u001b[0;34m,\u001b[0m \u001b[0mfacecolors\u001b[0m\u001b[0;34m=\u001b[0m\u001b[0;34m\"red\"\u001b[0m\u001b[0;34m,\u001b[0m \u001b[0medgecolors\u001b[0m\u001b[0;34m=\u001b[0m\u001b[0;34m\"black\"\u001b[0m\u001b[0;34m,\u001b[0m \u001b[0ms\u001b[0m\u001b[0;34m=\u001b[0m\u001b[0mx_axis\u001b[0m\u001b[0;34m,\u001b[0m \u001b[0malpha\u001b[0m\u001b[0;34m=\u001b[0m\u001b[0;36m0.75\u001b[0m\u001b[0;34m)\u001b[0m\u001b[0;34m\u001b[0m\u001b[0m\n\u001b[0m\u001b[1;32m     16\u001b[0m \u001b[0;34m\u001b[0m\u001b[0m\n\u001b[1;32m     17\u001b[0m \u001b[0;31m# # The y limits of our scatter plot is 0 to 1\u001b[0m\u001b[0;34m\u001b[0m\u001b[0;34m\u001b[0m\u001b[0m\n",
      "\u001b[0;32m~/anaconda3/envs/PythonData/lib/python3.6/site-packages/matplotlib/pyplot.py\u001b[0m in \u001b[0;36mscatter\u001b[0;34m(x, y, s, c, marker, cmap, norm, vmin, vmax, alpha, linewidths, verts, edgecolors, hold, data, **kwargs)\u001b[0m\n\u001b[1;32m   3355\u001b[0m                          \u001b[0mvmin\u001b[0m\u001b[0;34m=\u001b[0m\u001b[0mvmin\u001b[0m\u001b[0;34m,\u001b[0m \u001b[0mvmax\u001b[0m\u001b[0;34m=\u001b[0m\u001b[0mvmax\u001b[0m\u001b[0;34m,\u001b[0m \u001b[0malpha\u001b[0m\u001b[0;34m=\u001b[0m\u001b[0malpha\u001b[0m\u001b[0;34m,\u001b[0m\u001b[0;34m\u001b[0m\u001b[0m\n\u001b[1;32m   3356\u001b[0m                          \u001b[0mlinewidths\u001b[0m\u001b[0;34m=\u001b[0m\u001b[0mlinewidths\u001b[0m\u001b[0;34m,\u001b[0m \u001b[0mverts\u001b[0m\u001b[0;34m=\u001b[0m\u001b[0mverts\u001b[0m\u001b[0;34m,\u001b[0m\u001b[0;34m\u001b[0m\u001b[0m\n\u001b[0;32m-> 3357\u001b[0;31m                          edgecolors=edgecolors, data=data, **kwargs)\n\u001b[0m\u001b[1;32m   3358\u001b[0m     \u001b[0;32mfinally\u001b[0m\u001b[0;34m:\u001b[0m\u001b[0;34m\u001b[0m\u001b[0m\n\u001b[1;32m   3359\u001b[0m         \u001b[0max\u001b[0m\u001b[0;34m.\u001b[0m\u001b[0m_hold\u001b[0m \u001b[0;34m=\u001b[0m \u001b[0mwashold\u001b[0m\u001b[0;34m\u001b[0m\u001b[0m\n",
      "\u001b[0;32m~/anaconda3/envs/PythonData/lib/python3.6/site-packages/matplotlib/__init__.py\u001b[0m in \u001b[0;36minner\u001b[0;34m(ax, *args, **kwargs)\u001b[0m\n\u001b[1;32m   1708\u001b[0m                     warnings.warn(msg % (label_namer, func.__name__),\n\u001b[1;32m   1709\u001b[0m                                   RuntimeWarning, stacklevel=2)\n\u001b[0;32m-> 1710\u001b[0;31m             \u001b[0;32mreturn\u001b[0m \u001b[0mfunc\u001b[0m\u001b[0;34m(\u001b[0m\u001b[0max\u001b[0m\u001b[0;34m,\u001b[0m \u001b[0;34m*\u001b[0m\u001b[0margs\u001b[0m\u001b[0;34m,\u001b[0m \u001b[0;34m**\u001b[0m\u001b[0mkwargs\u001b[0m\u001b[0;34m)\u001b[0m\u001b[0;34m\u001b[0m\u001b[0m\n\u001b[0m\u001b[1;32m   1711\u001b[0m         \u001b[0mpre_doc\u001b[0m \u001b[0;34m=\u001b[0m \u001b[0minner\u001b[0m\u001b[0;34m.\u001b[0m\u001b[0m__doc__\u001b[0m\u001b[0;34m\u001b[0m\u001b[0m\n\u001b[1;32m   1712\u001b[0m         \u001b[0;32mif\u001b[0m \u001b[0mpre_doc\u001b[0m \u001b[0;32mis\u001b[0m \u001b[0;32mNone\u001b[0m\u001b[0;34m:\u001b[0m\u001b[0;34m\u001b[0m\u001b[0m\n",
      "\u001b[0;32m~/anaconda3/envs/PythonData/lib/python3.6/site-packages/matplotlib/axes/_axes.py\u001b[0m in \u001b[0;36mscatter\u001b[0;34m(self, x, y, s, c, marker, cmap, norm, vmin, vmax, alpha, linewidths, verts, edgecolors, **kwargs)\u001b[0m\n\u001b[1;32m   4017\u001b[0m         \u001b[0my\u001b[0m \u001b[0;34m=\u001b[0m \u001b[0mnp\u001b[0m\u001b[0;34m.\u001b[0m\u001b[0mma\u001b[0m\u001b[0;34m.\u001b[0m\u001b[0mravel\u001b[0m\u001b[0;34m(\u001b[0m\u001b[0my\u001b[0m\u001b[0;34m)\u001b[0m\u001b[0;34m\u001b[0m\u001b[0m\n\u001b[1;32m   4018\u001b[0m         \u001b[0;32mif\u001b[0m \u001b[0mx\u001b[0m\u001b[0;34m.\u001b[0m\u001b[0msize\u001b[0m \u001b[0;34m!=\u001b[0m \u001b[0my\u001b[0m\u001b[0;34m.\u001b[0m\u001b[0msize\u001b[0m\u001b[0;34m:\u001b[0m\u001b[0;34m\u001b[0m\u001b[0m\n\u001b[0;32m-> 4019\u001b[0;31m             \u001b[0;32mraise\u001b[0m \u001b[0mValueError\u001b[0m\u001b[0;34m(\u001b[0m\u001b[0;34m\"x and y must be the same size\"\u001b[0m\u001b[0;34m)\u001b[0m\u001b[0;34m\u001b[0m\u001b[0m\n\u001b[0m\u001b[1;32m   4020\u001b[0m \u001b[0;34m\u001b[0m\u001b[0m\n\u001b[1;32m   4021\u001b[0m         \u001b[0;32mif\u001b[0m \u001b[0ms\u001b[0m \u001b[0;32mis\u001b[0m \u001b[0;32mNone\u001b[0m\u001b[0;34m:\u001b[0m\u001b[0;34m\u001b[0m\u001b[0m\n",
      "\u001b[0;31mValueError\u001b[0m: x and y must be the same size"
     ]
    }
   ],
   "source": [
    "### scatter of Compound score \n",
    "#plot.scatter 5 times\n",
    "\n",
    "# The maximum x value for our chart \n",
    "x_limit = 5\n",
    "\n",
    "# List of values from -2 to 2 each value being 1 greater than the last\n",
    "x_axis = np.arange(-2, 2)\n",
    "\n",
    "# Create a random array of data that we will use for our y values\n",
    "data = [-0.216]\n",
    "\n",
    "# Tells matplotlib that we want to make a scatter plot\n",
    "# The size of each point on our plot is determined by their x value\n",
    "plt.scatter(x_axis, data, marker=\"o\", facecolors=\"red\", edgecolors=\"black\", s=x_axis, alpha=0.75)\n",
    "\n",
    "# # The y limits of our scatter plot is 0 to 1\n",
    "plt.ylim(-2, 2)\n",
    "\n",
    "# The x limits of our scatter plot is 0 to 100\n",
    "plt.xlim(-2, x_limit)\n",
    "\n",
    "# Prints the scatter plot to the screen\n",
    "plt.show()"
   ]
  },
  {
   "cell_type": "code",
   "execution_count": null,
   "metadata": {},
   "outputs": [],
   "source": [
    "# Create an array that contains the number of users each language has\n",
    "#plot.scatter 5 times\n",
    "# x axis\n",
    "x_axis = np.arange(len(overall_sentiment))\n",
    "\n",
    "# y axis\n",
    "overall_sentiment = [BBC_compound_list, CBS_compound_list, CNN_compound_list, FoxNews_compound_list, NYTimes_compound_list]\n",
    "\n",
    "# y axis bad practice\n",
    "# overal_sentiment = [-0.216, 0.385, -0.066, -0.158, 0.069]\n",
    "\n",
    "# Tell matplotlib that we will be making a bar chart\n",
    "# Users is our y axis and x_axis is, of course, our x axis\n",
    "\n",
    "\n",
    "# We apply align=\"edge\" to ensure our bars line up with our tick marks\n",
    "plt.bar(x_axis, overall_sentiment, color='r', alpha=0.5, align=\"edge\")\n",
    "\n",
    "# Tell matplotlib where we would like to place each of our x axis headers\n",
    "tick_locations = [value+0.4 for value in x_axis]\n",
    "plt.xticks(tick_locations, [\"Java\", \"C++\", \"Python\", \"Ruby\", \"Clojure\"])\n",
    "\n",
    "# Sets the x limits of the current chart\n",
    "plt.xlim(-0.25, len(x_axis))\n",
    "\n",
    "(-0.25, 5)\n",
    "\n",
    "# Sets the y limits of the current chart\n",
    "plt.ylim(0, max(users)+5000)\n",
    "\n",
    "(0, 57000)\n",
    "\n",
    "# Give our chart some labels and a tile\n",
    "plt.title(\"Popularity of Programming Languages\")\n",
    "plt.xlabel(\"Programming Language\")\n",
    "plt.ylabel(\"Number of People Using Programming Languages\")\n",
    "\n",
    "# Print our chart to the screen\n",
    "plt.show()\n"
   ]
  },
  {
   "cell_type": "code",
   "execution_count": null,
   "metadata": {
    "collapsed": true
   },
   "outputs": [],
   "source": [
    "# Had to stop here, idk what to do next."
   ]
  }
 ],
 "metadata": {
  "kernelspec": {
   "display_name": "Python [conda env:PythonData]",
   "language": "python",
   "name": "conda-env-PythonData-py"
  },
  "language_info": {
   "codemirror_mode": {
    "name": "ipython",
    "version": 3
   },
   "file_extension": ".py",
   "mimetype": "text/x-python",
   "name": "python",
   "nbconvert_exporter": "python",
   "pygments_lexer": "ipython3",
   "version": "3.6.3"
  }
 },
 "nbformat": 4,
 "nbformat_minor": 2
}
